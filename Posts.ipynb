{
 "cells": [
  {
   "cell_type": "code",
   "execution_count": 8,
   "metadata": {},
   "outputs": [],
   "source": [
    "from pyspark.sql.functions import *\n",
    "import time\n",
    "import pyspark.sql.functions as F\n",
    "from pyspark.sql.types import *"
   ]
  },
  {
   "cell_type": "code",
   "execution_count": 9,
   "metadata": {},
   "outputs": [],
   "source": [
    "text_file = sc.textFile(\"gs://stackoverflow-dataset-677/Posts.xml\")"
   ]
  },
  {
   "cell_type": "code",
   "execution_count": 10,
   "metadata": {},
   "outputs": [
    {
     "data": {
      "text/plain": [
       "['<?xml version=\"1.0\" encoding=\"utf-8\"?>',\n",
       " '<posts>',\n",
       " '  <row Id=\"1\" PostTypeId=\"1\" AcceptedAnswerId=\"2\" CreationDate=\"2010-07-28T19:04:21.300\" Score=\"61\" ViewCount=\"3978\" Body=\"&lt;p&gt;Every time I turn on my computer, I see a message saying something like:&lt;/p&gt;&#xA;&#xA;&lt;pre&gt;&lt;code&gt;Your battery may be old or broken.&#xA;&lt;/code&gt;&lt;/pre&gt;&#xA;&#xA;&lt;p&gt;I am already aware that my battery is bad. How do I suppress this message?&lt;/p&gt;&#xA;\" OwnerUserId=\"5\" LastEditorUserId=\"208574\" LastEditDate=\"2014-12-16T01:47:45.980\" LastActivityDate=\"2018-10-05T23:56:48.997\" Title=\"How to get the &quot;Your battery is broken&quot; message to go away?\" Tags=\"&lt;power-management&gt;&lt;notification&gt;\" AnswerCount=\"4\" CommentCount=\"2\" FavoriteCount=\"7\" ContentLicense=\"CC BY-SA 3.0\" />']"
      ]
     },
     "execution_count": 10,
     "metadata": {},
     "output_type": "execute_result"
    }
   ],
   "source": [
    "text_file.take(3)"
   ]
  },
  {
   "cell_type": "code",
   "execution_count": 11,
   "metadata": {},
   "outputs": [],
   "source": [
    "filteredRDD = text_file.filter(lambda x: x.startswith(\"  <row \"))"
   ]
  },
  {
   "cell_type": "code",
   "execution_count": 12,
   "metadata": {},
   "outputs": [],
   "source": [
    "cleanedRDD = filteredRDD.map(lambda x: x.lstrip(\"  \"))"
   ]
  },
  {
   "cell_type": "code",
   "execution_count": 33,
   "metadata": {},
   "outputs": [
    {
     "data": {
      "text/plain": [
       "['<row Id=\"1\" PostTypeId=\"1\" AcceptedAnswerId=\"2\" CreationDate=\"2010-07-28T19:04:21.300\" Score=\"61\" ViewCount=\"3978\" Body=\"&lt;p&gt;Every time I turn on my computer, I see a message saying something like:&lt;/p&gt;&#xA;&#xA;&lt;pre&gt;&lt;code&gt;Your battery may be old or broken.&#xA;&lt;/code&gt;&lt;/pre&gt;&#xA;&#xA;&lt;p&gt;I am already aware that my battery is bad. How do I suppress this message?&lt;/p&gt;&#xA;\" OwnerUserId=\"5\" LastEditorUserId=\"208574\" LastEditDate=\"2014-12-16T01:47:45.980\" LastActivityDate=\"2018-10-05T23:56:48.997\" Title=\"How to get the &quot;Your battery is broken&quot; message to go away?\" Tags=\"&lt;power-management&gt;&lt;notification&gt;\" AnswerCount=\"4\" CommentCount=\"2\" FavoriteCount=\"7\" ContentLicense=\"CC BY-SA 3.0\" />']"
      ]
     },
     "execution_count": 33,
     "metadata": {},
     "output_type": "execute_result"
    }
   ],
   "source": [
    "cleanedRDD.take(1)"
   ]
  },
  {
   "cell_type": "code",
   "execution_count": 35,
   "metadata": {},
   "outputs": [],
   "source": [
    "import xml.etree.ElementTree as ET\n",
    "\n",
    "def parse_xml(rdd):\n",
    "    \"\"\"\n",
    "    Read the xml string from rdd, parse and extract the elements,\n",
    "    then return a list of list.\n",
    "    \"\"\"\n",
    "    root = ET.fromstring(rdd)\n",
    "    rec = []\n",
    "    \n",
    "    if \"Id\" in root.attrib:\n",
    "        rec.append(int(root.attrib['Id']))\n",
    "    else:\n",
    "        rec.append(0)\n",
    "\n",
    "    \n",
    "    if \"Score\" in root.attrib:\n",
    "        rec.append(int(root.attrib['Score']))\n",
    "    else:\n",
    "        rec.append(0)\n",
    "    \n",
    "    if \"AnswerCount\" in root.attrib:\n",
    "        rec.append(int(root.attrib['AnswerCount']))\n",
    "    else:\n",
    "        rec.append(0)\n",
    "    \n",
    "    if \"Title\" in root.attrib:\n",
    "        rec.append(root.attrib['Title'])\n",
    "    else:\n",
    "        rec.append(\"N/A\")\n",
    "    \n",
    "    if \"Body\" in root.attrib:\n",
    "        rec.append(root.attrib['Body'].replace(\"<p>\",\"\").replace(\"</p>\",\"\").replace(\"\\n\",\"\").replace(\"<code>\",\"\").replace(\"</code>\",\"\").replace(\"<pre>\",\"\").replace(\"</pre>\",\"\"))\n",
    "    else:\n",
    "        rec.append(\"N/A\")\n",
    "    \n",
    "    if \"CreationDate\" in root.attrib:\n",
    "        rec.append(root.attrib['CreationDate'])\n",
    "    else:\n",
    "        rec.append(\"N/A\")\n",
    "        \n",
    "    if \"ViewCount\" in root.attrib:\n",
    "        rec.append(int(root.attrib['ViewCount']))\n",
    "    else:\n",
    "        rec.append(0)\n",
    "        \n",
    "        \n",
    "\n",
    "    if \"OwnerUserId\" in root.attrib:\n",
    "        rec.append(int(root.attrib['OwnerUserId']))\n",
    "    else:\n",
    "        rec.append(0)\n",
    "    return rec\n",
    "        \n",
    "\n",
    "    if \"LastEditorUserId\" in root.attrib:\n",
    "        rec.append(int(root.attrib['LastEditorUserId']))\n",
    "    else:\n",
    "        rec.append(0)\n",
    "    return rec"
   ]
  },
  {
   "cell_type": "code",
   "execution_count": 36,
   "metadata": {},
   "outputs": [],
   "source": [
    "records_rdd = cleanedRDD.map(lambda x : parse_xml(x))"
   ]
  },
  {
   "cell_type": "code",
   "execution_count": 37,
   "metadata": {},
   "outputs": [
    {
     "data": {
      "text/plain": [
       "[[1,\n",
       "  61,\n",
       "  4,\n",
       "  'How to get the \"Your battery is broken\" message to go away?',\n",
       "  'Every time I turn on my computer, I see a message saying something like:Your battery may be old or broken.I am already aware that my battery is bad. How do I suppress this message?',\n",
       "  '2010-07-28T19:04:21.300',\n",
       "  3978,\n",
       "  5]]"
      ]
     },
     "execution_count": 37,
     "metadata": {},
     "output_type": "execute_result"
    }
   ],
   "source": [
    "records_rdd.take(1)"
   ]
  },
  {
   "cell_type": "code",
   "execution_count": 38,
   "metadata": {},
   "outputs": [],
   "source": [
    "posts_data = [\"id\",\"post_score\",\"answerCount\",\"title\",\"body\",\"creationDate\",\"ownerUserId\",\"lastEditorUserId\"]\n",
    "posts_df = records_rdd.toDF(posts_data)"
   ]
  },
  {
   "cell_type": "code",
   "execution_count": 40,
   "metadata": {},
   "outputs": [
    {
     "name": "stdout",
     "output_type": "stream",
     "text": [
      "+---+----------+-----------+--------------------+--------------------+--------------------+-----------+----------------+\n",
      "| id|post_score|answerCount|               title|                body|        creationDate|ownerUserId|lastEditorUserId|\n",
      "+---+----------+-----------+--------------------+--------------------+--------------------+-----------+----------------+\n",
      "|  1|        61|          4|How to get the \"Y...|Every time I turn...|2010-07-28T19:04:...|       3978|               5|\n",
      "|  2|        41|          0|                 N/A|Maybe <a href=\"ht...|2010-07-28T19:15:...|          0|               4|\n",
      "|  3|        48|          5|How can I set the...|How can I set the...|2010-07-28T19:21:...|      13236|              35|\n",
      "|  5|        22|          2|What are some alt...|What are some alt...|2010-07-28T19:23:...|        637|              10|\n",
      "|  6|        41|          9|How to graphicall...|I have a ubuntu d...|2010-07-28T19:23:...|      23359|              27|\n",
      "|  7|        26|          6|How do I run a su...|I'm taking my be-...|2010-07-28T19:24:...|       1824|              43|\n",
      "|  8|        18|          4|How do I go back ...|I started with Ub...|2010-07-28T19:24:...|       2613|              50|\n",
      "|  9|       142|          5|How do I enable a...|Update Manager is...|2010-07-28T19:26:...|     100230|              56|\n",
      "| 10|        12|          0|                 N/A|You could use <a ...|2010-07-28T19:26:...|          0|               4|\n",
      "| 11|       106|         20|How do I install ...|I have had signif...|2010-07-28T19:27:...|     475820|              63|\n",
      "| 12|        19|          0|                 N/A|Yes, X forwarding...|2010-07-28T19:27:...|          0|              10|\n",
      "| 14|        34|          4|How can I make Ub...|I'd like to have ...|2010-07-28T19:29:...|       1522|              39|\n",
      "| 15|         9|          3|What might preven...|I've followed the...|2010-07-28T19:29:...|       1711|              71|\n",
      "| 16|        16|          3|Where should I in...|<a href=\"http://s...|2010-07-28T19:30:...|       1065|              20|\n",
      "| 18|         7|          0|                 N/A|You can use the a...|2010-07-28T19:30:...|          0|               4|\n",
      "| 19|         8|          0|                 N/A|I've always helpe...|2010-07-28T19:31:...|          0|              41|\n",
      "| 21|        80|          0|                 N/A|<h3>For 11.04 and...|2010-07-28T19:31:...|          0|               5|\n",
      "| 22|         1|          0|                 N/A|While inherently ...|2010-07-28T19:31:...|          0|              50|\n",
      "| 23|         7|          0|                 N/A|/opt is a viable ...|2010-07-28T19:32:...|          0|               4|\n",
      "| 24|        14|          1|Remove online sta...|In the upper righ...|2010-07-28T19:32:...|       1148|              24|\n",
      "+---+----------+-----------+--------------------+--------------------+--------------------+-----------+----------------+\n",
      "only showing top 20 rows\n",
      "\n"
     ]
    }
   ],
   "source": [
    "posts_df.show()"
   ]
  },
  {
   "cell_type": "code",
   "execution_count": null,
   "metadata": {},
   "outputs": [],
   "source": [
    "df = df.dropna()"
   ]
  },
  {
   "cell_type": "code",
   "execution_count": null,
   "metadata": {},
   "outputs": [],
   "source": [
    "https://towardsdatascience.com/sentiment-analysis-with-pyspark-bc8e83f80c35"
   ]
  }
 ],
 "metadata": {
  "kernelspec": {
   "display_name": "PySpark",
   "language": "python",
   "name": "pyspark"
  },
  "language_info": {
   "codemirror_mode": {
    "name": "ipython",
    "version": 3
   },
   "file_extension": ".py",
   "mimetype": "text/x-python",
   "name": "python",
   "nbconvert_exporter": "python",
   "pygments_lexer": "ipython3",
   "version": "3.8.6"
  }
 },
 "nbformat": 4,
 "nbformat_minor": 4
}
