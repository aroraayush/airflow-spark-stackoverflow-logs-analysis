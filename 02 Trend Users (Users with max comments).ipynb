{
 "cells": [
  {
   "cell_type": "code",
   "execution_count": 1,
   "metadata": {},
   "outputs": [],
   "source": [
    "from pyspark.sql.functions import *\n",
    "import time\n",
    "import pyspark.sql.functions as F\n",
    "from pyspark.sql.types import *"
   ]
  },
  {
   "cell_type": "code",
   "execution_count": 2,
   "metadata": {},
   "outputs": [],
   "source": [
    "text_file = sc.textFile(\"gs://stackoverflow-dataset-677/Comments.xml\")"
   ]
  },
  {
   "cell_type": "code",
   "execution_count": 3,
   "metadata": {},
   "outputs": [
    {
     "data": {
      "text/plain": [
       "['<?xml version=\"1.0\" encoding=\"utf-8\"?>',\n",
       " '<comments>',\n",
       " '  <row Id=\"13\" PostId=\"23\" Score=\"0\" Text=\"Using /opt helps me keep track of the applications I\\'ve installed myself.\" CreationDate=\"2010-07-28T19:36:59.773\" UserId=\"10\" ContentLicense=\"CC BY-SA 2.5\" />']"
      ]
     },
     "execution_count": 3,
     "metadata": {},
     "output_type": "execute_result"
    }
   ],
   "source": [
    "text_file.take(3)"
   ]
  },
  {
   "cell_type": "code",
   "execution_count": 4,
   "metadata": {},
   "outputs": [],
   "source": [
    "filteredRDD = text_file.filter(lambda x: x.startswith(\"  <row \"))"
   ]
  },
  {
   "cell_type": "code",
   "execution_count": 5,
   "metadata": {},
   "outputs": [
    {
     "data": {
      "text/plain": [
       "['  <row Id=\"13\" PostId=\"23\" Score=\"0\" Text=\"Using /opt helps me keep track of the applications I\\'ve installed myself.\" CreationDate=\"2010-07-28T19:36:59.773\" UserId=\"10\" ContentLicense=\"CC BY-SA 2.5\" />']"
      ]
     },
     "execution_count": 5,
     "metadata": {},
     "output_type": "execute_result"
    }
   ],
   "source": [
    "filteredRDD.take(1)"
   ]
  },
  {
   "cell_type": "code",
   "execution_count": 6,
   "metadata": {},
   "outputs": [],
   "source": [
    "cleanedRDD = filteredRDD.map(lambda x: x.lstrip(\"  \"))"
   ]
  },
  {
   "cell_type": "code",
   "execution_count": 7,
   "metadata": {},
   "outputs": [
    {
     "data": {
      "text/plain": [
       "['<row Id=\"13\" PostId=\"23\" Score=\"0\" Text=\"Using /opt helps me keep track of the applications I\\'ve installed myself.\" CreationDate=\"2010-07-28T19:36:59.773\" UserId=\"10\" ContentLicense=\"CC BY-SA 2.5\" />']"
      ]
     },
     "execution_count": 7,
     "metadata": {},
     "output_type": "execute_result"
    }
   ],
   "source": [
    "cleanedRDD.take(1)"
   ]
  },
  {
   "cell_type": "code",
   "execution_count": 8,
   "metadata": {},
   "outputs": [],
   "source": [
    "import xml.etree.ElementTree as ET\n",
    "\n",
    "def parse_xml(rdd):\n",
    "    \"\"\"\n",
    "    Read the xml string from rdd, parse and extract the elements,\n",
    "    then return a list of list.\n",
    "    \"\"\"\n",
    "    root = ET.fromstring(rdd)\n",
    "    rec = []\n",
    "    \n",
    "    if \"PostId\" in root.attrib:\n",
    "        rec.append(int(root.attrib['PostId']))\n",
    "    else:\n",
    "        rec.append(0)\n",
    "\n",
    "    \n",
    "    if \"Score\" in root.attrib:\n",
    "        rec.append(int(root.attrib['Score']))\n",
    "    else:\n",
    "        rec.append(0)\n",
    "\n",
    "    \n",
    "    if \"Text\" in root.attrib:\n",
    "        rec.append(root.attrib['Text'])\n",
    "    else:\n",
    "        rec.append(\"N/A\")\n",
    "    \n",
    "    if \"CreationDate\" in root.attrib:\n",
    "        rec.append(root.attrib['CreationDate'])\n",
    "    else:\n",
    "        rec.append(\"N/A\")\n",
    "\n",
    "    if \"UserId\" in root.attrib:\n",
    "        rec.append(int(root.attrib['UserId']))\n",
    "    else:\n",
    "        rec.append(0)\n",
    "    return rec"
   ]
  },
  {
   "cell_type": "code",
   "execution_count": 9,
   "metadata": {},
   "outputs": [],
   "source": [
    "records_rdd = cleanedRDD.map(lambda x : parse_xml(x))"
   ]
  },
  {
   "cell_type": "code",
   "execution_count": 10,
   "metadata": {},
   "outputs": [],
   "source": [
    "comments_data = [\"postId\",\"score\",\"text\",\"creationDate\",\"userId\"]\n",
    "comments_df = records_rdd.toDF(comments_data)"
   ]
  },
  {
   "cell_type": "code",
   "execution_count": 11,
   "metadata": {},
   "outputs": [
    {
     "name": "stdout",
     "output_type": "stream",
     "text": [
      "root\n",
      " |-- postId: long (nullable = true)\n",
      " |-- score: long (nullable = true)\n",
      " |-- text: string (nullable = true)\n",
      " |-- creationDate: string (nullable = true)\n",
      " |-- userId: long (nullable = true)\n",
      "\n"
     ]
    }
   ],
   "source": [
    "comments_df.printSchema()"
   ]
  },
  {
   "cell_type": "code",
   "execution_count": 12,
   "metadata": {},
   "outputs": [
    {
     "name": "stdout",
     "output_type": "stream",
     "text": [
      "+------+-----+--------------------+--------------------+------+\n",
      "|postId|score|                text|        creationDate|userId|\n",
      "+------+-----+--------------------+--------------------+------+\n",
      "|    23|    0|Using /opt helps ...|2010-07-28T19:36:...|    10|\n",
      "|    18|    0|but popping in a ...|2010-07-28T19:38:...|    10|\n",
      "|    27|    0|That will revert ...|2010-07-28T19:39:...|    50|\n",
      "|    31|    0|I think you meant...|2010-07-28T19:41:...|    12|\n",
      "|    18|    0|@DLH apparently n...|2010-07-28T19:41:...|    63|\n",
      "|    12|    2|\"ssh -X <server> ...|2010-07-28T19:46:...|    96|\n",
      "|    12|    0|@Suppressingfire:...|2010-07-28T19:48:...|    10|\n",
      "|    50|    0|Can you please re...|2010-07-28T19:48:...|    56|\n",
      "|    27|    0|It probably shoul...|2010-07-28T19:49:...|     5|\n",
      "|    58|    0|Do you mean the c...|2010-07-28T19:50:...|     5|\n",
      "|    47|    0|Have you checked ...|2010-07-28T19:50:...|     4|\n",
      "|    47|    1|Might be related ...|2010-07-28T19:51:...|   104|\n",
      "|    58|    0|Do you use Gnome ...|2010-07-28T19:51:...|     4|\n",
      "|    60|    0|This causes data ...|2010-07-28T19:52:...|    66|\n",
      "|    18|    0|no the live CD do...|2010-07-28T19:53:...|     4|\n",
      "|    52|    0|Does this let the...|2010-07-28T19:55:...|    35|\n",
      "|    56|    2|LDAP and nfs are ...|2010-07-28T19:56:...|     4|\n",
      "|    10|    0|Can I use it on a...|2010-07-28T19:56:...|    27|\n",
      "|    70|    1|That's a good tip...|2010-07-28T19:56:...|    45|\n",
      "|    70|    0|That is probably ...|2010-07-28T19:58:...|    86|\n",
      "+------+-----+--------------------+--------------------+------+\n",
      "only showing top 20 rows\n",
      "\n"
     ]
    }
   ],
   "source": [
    "comments_df.show()"
   ]
  },
  {
   "cell_type": "code",
   "execution_count": 13,
   "metadata": {},
   "outputs": [],
   "source": [
    "trending_users = comments_df.groupBy(\"userId\") \\\n",
    "    .agg(count(\"text\").alias(\"count\")) \\\n",
    "    .where(col(\"userId\") > 0) \\\n",
    "    .orderBy(col('count').desc())"
   ]
  },
  {
   "cell_type": "code",
   "execution_count": 14,
   "metadata": {},
   "outputs": [
    {
     "name": "stdout",
     "output_type": "stream",
     "text": [
      "+------+-----+\n",
      "|userId|count|\n",
      "+------+-----+\n",
      "|167850|14677|\n",
      "|  4272|12192|\n",
      "|158442|12091|\n",
      "| 15811|10505|\n",
      "|175814| 8835|\n",
      "|307523| 7861|\n",
      "|469152| 7567|\n",
      "|178692| 7523|\n",
      "| 35795| 7515|\n",
      "|126395| 7398|\n",
      "|295286| 6757|\n",
      "| 19421| 6679|\n",
      "|344926| 6268|\n",
      "| 19626| 6164|\n",
      "| 22949| 6136|\n",
      "| 10616| 6124|\n",
      "|225694| 5736|\n",
      "| 94914| 5692|\n",
      "|459561| 5346|\n",
      "| 72216| 5314|\n",
      "+------+-----+\n",
      "only showing top 20 rows\n",
      "\n"
     ]
    }
   ],
   "source": [
    "trending_users.show()"
   ]
  },
  {
   "cell_type": "code",
   "execution_count": 13,
   "metadata": {},
   "outputs": [],
   "source": [
    "comments_df.createOrReplaceTempView(\"comments\")"
   ]
  },
  {
   "cell_type": "code",
   "execution_count": 14,
   "metadata": {},
   "outputs": [],
   "source": [
    "comments_sql_df = spark.sql(\"SELECT * FROM comments\")"
   ]
  },
  {
   "cell_type": "code",
   "execution_count": 15,
   "metadata": {},
   "outputs": [
    {
     "name": "stdout",
     "output_type": "stream",
     "text": [
      "root\n",
      " |-- postId: long (nullable = true)\n",
      " |-- score: long (nullable = true)\n",
      " |-- text: string (nullable = true)\n",
      " |-- creationDate: string (nullable = true)\n",
      " |-- userId: long (nullable = true)\n",
      "\n"
     ]
    }
   ],
   "source": [
    "comments_sql_df.printSchema()"
   ]
  },
  {
   "cell_type": "code",
   "execution_count": 16,
   "metadata": {},
   "outputs": [
    {
     "name": "stdout",
     "output_type": "stream",
     "text": [
      "+------+-----+--------------------+--------------------+------+\n",
      "|postId|score|                text|        creationDate|userId|\n",
      "+------+-----+--------------------+--------------------+------+\n",
      "|    23|    0|Using /opt helps ...|2010-07-28T19:36:...|    10|\n",
      "|    18|    0|but popping in a ...|2010-07-28T19:38:...|    10|\n",
      "|    27|    0|That will revert ...|2010-07-28T19:39:...|    50|\n",
      "|    31|    0|I think you meant...|2010-07-28T19:41:...|    12|\n",
      "|    18|    0|@DLH apparently n...|2010-07-28T19:41:...|    63|\n",
      "|    12|    2|\"ssh -X <server> ...|2010-07-28T19:46:...|    96|\n",
      "|    12|    0|@Suppressingfire:...|2010-07-28T19:48:...|    10|\n",
      "|    50|    0|Can you please re...|2010-07-28T19:48:...|    56|\n",
      "|    27|    0|It probably shoul...|2010-07-28T19:49:...|     5|\n",
      "|    58|    0|Do you mean the c...|2010-07-28T19:50:...|     5|\n",
      "|    47|    0|Have you checked ...|2010-07-28T19:50:...|     4|\n",
      "|    47|    1|Might be related ...|2010-07-28T19:51:...|   104|\n",
      "|    58|    0|Do you use Gnome ...|2010-07-28T19:51:...|     4|\n",
      "|    60|    0|This causes data ...|2010-07-28T19:52:...|    66|\n",
      "|    18|    0|no the live CD do...|2010-07-28T19:53:...|     4|\n",
      "|    52|    0|Does this let the...|2010-07-28T19:55:...|    35|\n",
      "|    56|    2|LDAP and nfs are ...|2010-07-28T19:56:...|     4|\n",
      "|    10|    0|Can I use it on a...|2010-07-28T19:56:...|    27|\n",
      "|    70|    1|That's a good tip...|2010-07-28T19:56:...|    45|\n",
      "|    70|    0|That is probably ...|2010-07-28T19:58:...|    86|\n",
      "+------+-----+--------------------+--------------------+------+\n",
      "only showing top 20 rows\n",
      "\n"
     ]
    }
   ],
   "source": [
    "comments_sql_df.show()"
   ]
  },
  {
   "cell_type": "code",
   "execution_count": 42,
   "metadata": {},
   "outputs": [
    {
     "name": "stdout",
     "output_type": "stream",
     "text": [
      "+------+-----+--------------------+--------------------+------+\n",
      "|postId|score|                text|        creationDate|userId|\n",
      "+------+-----+--------------------+--------------------+------+\n",
      "|    23|    0|Using /opt helps ...|2010-07-28T19:36:...|    10|\n",
      "|    18|    0|but popping in a ...|2010-07-28T19:38:...|    10|\n",
      "|    27|    0|That will revert ...|2010-07-28T19:39:...|    50|\n",
      "|    31|    0|I think you meant...|2010-07-28T19:41:...|    12|\n",
      "|    18|    0|@DLH apparently n...|2010-07-28T19:41:...|    63|\n",
      "|    12|    2|\"ssh -X <server> ...|2010-07-28T19:46:...|    96|\n",
      "|    12|    0|@Suppressingfire:...|2010-07-28T19:48:...|    10|\n",
      "|    50|    0|Can you please re...|2010-07-28T19:48:...|    56|\n",
      "|    27|    0|It probably shoul...|2010-07-28T19:49:...|     5|\n",
      "|    58|    0|Do you mean the c...|2010-07-28T19:50:...|     5|\n",
      "|    47|    0|Have you checked ...|2010-07-28T19:50:...|     4|\n",
      "|    47|    1|Might be related ...|2010-07-28T19:51:...|   104|\n",
      "|    58|    0|Do you use Gnome ...|2010-07-28T19:51:...|     4|\n",
      "|    60|    0|This causes data ...|2010-07-28T19:52:...|    66|\n",
      "|    18|    0|no the live CD do...|2010-07-28T19:53:...|     4|\n",
      "|    52|    0|Does this let the...|2010-07-28T19:55:...|    35|\n",
      "|    56|    2|LDAP and nfs are ...|2010-07-28T19:56:...|     4|\n",
      "|    10|    0|Can I use it on a...|2010-07-28T19:56:...|    27|\n",
      "|    70|    1|That's a good tip...|2010-07-28T19:56:...|    45|\n",
      "|    70|    0|That is probably ...|2010-07-28T19:58:...|    86|\n",
      "+------+-----+--------------------+--------------------+------+\n",
      "only showing top 20 rows\n",
      "\n"
     ]
    }
   ],
   "source": [
    "spark.sql(\"SELECT * FROM comments where userId > 0\").show()"
   ]
  },
  {
   "cell_type": "code",
   "execution_count": 44,
   "metadata": {},
   "outputs": [
    {
     "name": "stdout",
     "output_type": "stream",
     "text": [
      "+------+-----+\n",
      "|userId|count|\n",
      "+------+-----+\n",
      "|     0|27141|\n",
      "|167850|14677|\n",
      "|  4272|12192|\n",
      "|158442|12091|\n",
      "| 15811|10505|\n",
      "|175814| 8835|\n",
      "|307523| 7861|\n",
      "|469152| 7567|\n",
      "|178692| 7523|\n",
      "| 35795| 7515|\n",
      "|126395| 7398|\n",
      "|295286| 6757|\n",
      "| 19421| 6679|\n",
      "|344926| 6268|\n",
      "| 19626| 6164|\n",
      "| 22949| 6136|\n",
      "| 10616| 6124|\n",
      "|225694| 5736|\n",
      "| 94914| 5692|\n",
      "|459561| 5346|\n",
      "+------+-----+\n",
      "only showing top 20 rows\n",
      "\n"
     ]
    }
   ],
   "source": [
    "spark.sql(\"SELECT userId,count(*) as count FROM comments group by userId order by count desc\").show()"
   ]
  },
  {
   "cell_type": "code",
   "execution_count": 15,
   "metadata": {},
   "outputs": [],
   "source": [
    "trending_users.createOrReplaceTempView(\"trending_users\")"
   ]
  },
  {
   "cell_type": "code",
   "execution_count": 16,
   "metadata": {},
   "outputs": [
    {
     "name": "stdout",
     "output_type": "stream",
     "text": [
      "+------+-----+\n",
      "|userId|count|\n",
      "+------+-----+\n",
      "|167850|14677|\n",
      "|  4272|12192|\n",
      "|158442|12091|\n",
      "| 15811|10505|\n",
      "|175814| 8835|\n",
      "|307523| 7861|\n",
      "|469152| 7567|\n",
      "|178692| 7523|\n",
      "| 35795| 7515|\n",
      "|126395| 7398|\n",
      "|295286| 6757|\n",
      "| 19421| 6679|\n",
      "|344926| 6268|\n",
      "| 19626| 6164|\n",
      "| 22949| 6136|\n",
      "| 10616| 6124|\n",
      "|225694| 5736|\n",
      "| 94914| 5692|\n",
      "|459561| 5346|\n",
      "| 72216| 5314|\n",
      "+------+-----+\n",
      "only showing top 20 rows\n",
      "\n"
     ]
    }
   ],
   "source": [
    "spark.sql(\"SELECT * FROM trending_users\").show()"
   ]
  },
  {
   "cell_type": "code",
   "execution_count": 17,
   "metadata": {},
   "outputs": [],
   "source": [
    "users_data = sc.textFile(\"gs://stackoverflow-dataset-677/users_out/*.csv\")"
   ]
  },
  {
   "cell_type": "code",
   "execution_count": 18,
   "metadata": {},
   "outputs": [
    {
     "data": {
      "text/plain": [
       "['1,Community', '2,Geoff Dalgas', '3,Jarrod Dixon']"
      ]
     },
     "execution_count": 18,
     "metadata": {},
     "output_type": "execute_result"
    }
   ],
   "source": [
    "users_data.take(3)"
   ]
  },
  {
   "cell_type": "code",
   "execution_count": 19,
   "metadata": {},
   "outputs": [],
   "source": [
    "def create_user(rdd):\n",
    "    rdd_split = rdd.split(\",\")\n",
    "    return [int(rdd_split[0]),rdd_split[1]]"
   ]
  },
  {
   "cell_type": "code",
   "execution_count": 20,
   "metadata": {},
   "outputs": [],
   "source": [
    "users_rdd = users_data.map(lambda x: create_user(x))"
   ]
  },
  {
   "cell_type": "code",
   "execution_count": 21,
   "metadata": {},
   "outputs": [
    {
     "data": {
      "text/plain": [
       "[[1, 'Community'], [2, 'Geoff Dalgas'], [3, 'Jarrod Dixon']]"
      ]
     },
     "execution_count": 21,
     "metadata": {},
     "output_type": "execute_result"
    }
   ],
   "source": [
    "users_rdd.take(3)"
   ]
  },
  {
   "cell_type": "code",
   "execution_count": 22,
   "metadata": {},
   "outputs": [],
   "source": [
    "user_data = [\"id\",\"username\"]\n",
    "user_df = users_rdd.toDF(user_data)"
   ]
  },
  {
   "cell_type": "code",
   "execution_count": 23,
   "metadata": {},
   "outputs": [
    {
     "name": "stdout",
     "output_type": "stream",
     "text": [
      "root\n",
      " |-- id: long (nullable = true)\n",
      " |-- username: string (nullable = true)\n",
      "\n"
     ]
    }
   ],
   "source": [
    "user_df.printSchema()"
   ]
  },
  {
   "cell_type": "code",
   "execution_count": 24,
   "metadata": {},
   "outputs": [
    {
     "name": "stdout",
     "output_type": "stream",
     "text": [
      "+---+----------------+\n",
      "| id|        username|\n",
      "+---+----------------+\n",
      "|  1|       Community|\n",
      "|  2|    Geoff Dalgas|\n",
      "|  3|    Jarrod Dixon|\n",
      "|  4|      txwikinger|\n",
      "|  5|    Nathan Osman|\n",
      "|  6|          Emmett|\n",
      "|  7|           Helix|\n",
      "|  8| mechanical_meat|\n",
      "|  9|          Andrew|\n",
      "| 10|             DLH|\n",
      "| 11|   hannes.koller|\n",
      "| 12|   Michael Terry|\n",
      "| 13|   Keith Maurino|\n",
      "| 14|          Jweede|\n",
      "| 16|        Jeremy L|\n",
      "| 17|          tutuca|\n",
      "| 18|          excid3|\n",
      "| 20|   ParanoiaPuppy|\n",
      "| 21|            GeoD|\n",
      "| 22|Alan Featherston|\n",
      "+---+----------------+\n",
      "only showing top 20 rows\n",
      "\n"
     ]
    }
   ],
   "source": [
    "user_df.show()"
   ]
  },
  {
   "cell_type": "code",
   "execution_count": 25,
   "metadata": {},
   "outputs": [],
   "source": [
    "user_df.createOrReplaceTempView(\"users\")"
   ]
  },
  {
   "cell_type": "code",
   "execution_count": 26,
   "metadata": {},
   "outputs": [
    {
     "name": "stdout",
     "output_type": "stream",
     "text": [
      "root\n",
      " |-- id: long (nullable = true)\n",
      " |-- username: string (nullable = true)\n",
      "\n"
     ]
    }
   ],
   "source": [
    "user_df.printSchema()"
   ]
  },
  {
   "cell_type": "code",
   "execution_count": 58,
   "metadata": {},
   "outputs": [
    {
     "name": "stdout",
     "output_type": "stream",
     "text": [
      "+---+--------+\n",
      "| id|username|\n",
      "+---+--------+\n",
      "| 26| njpatel|\n",
      "+---+--------+\n",
      "\n"
     ]
    }
   ],
   "source": [
    "spark.sql(\"SELECT * FROM users where id=26\").show()"
   ]
  },
  {
   "cell_type": "code",
   "execution_count": 27,
   "metadata": {},
   "outputs": [
    {
     "name": "stdout",
     "output_type": "stream",
     "text": [
      "+-----+----------------+\n",
      "|count|        username|\n",
      "+-----+----------------+\n",
      "|14677|          Pilot6|\n",
      "|12192|        heynnema|\n",
      "|12091|            muru|\n",
      "|10505|        Rinzwind|\n",
      "| 8835|  David Foerster|\n",
      "| 7861|WinEunuuchs2Unix|\n",
      "| 7567|         guiverc|\n",
      "| 7523|     steeldriver|\n",
      "| 7515|         Panther|\n",
      "| 7398|         oldfred|\n",
      "+-----+----------------+\n",
      "\n"
     ]
    }
   ],
   "source": [
    "trending_usernames = spark.sql(\"SELECT count,username FROM trending_users tu JOIN users u ON u.id = tu.userId order by count desc limit 10\")\n",
    "trending_usernames.show()"
   ]
  },
  {
   "cell_type": "code",
   "execution_count": 29,
   "metadata": {},
   "outputs": [
    {
     "name": "stdout",
     "output_type": "stream",
     "text": [
      "root\n",
      " |-- count: long (nullable = false)\n",
      " |-- username: string (nullable = true)\n",
      "\n"
     ]
    }
   ],
   "source": [
    "trending_usernames.printSchema()"
   ]
  },
  {
   "cell_type": "code",
   "execution_count": null,
   "metadata": {},
   "outputs": [],
   "source": [
    "trending_usernames.repartition(1).write.csv(\"gs://stackoverflow-dataset-677/trending_usernames\", sep=',')"
   ]
  },
  {
   "cell_type": "code",
   "execution_count": 118,
   "metadata": {},
   "outputs": [
    {
     "name": "stdout",
     "output_type": "stream",
     "text": [
      "+----+-------------------+------+-----+--------------------+--------------------+------+\n",
      "|  id|           username|postId|score|                text|        creationDate|userId|\n",
      "+----+-------------------+------+-----+--------------------+--------------------+------+\n",
      "| 964|Hendrik Brummermann|  4602|    0|I can confirm thi...|2010-10-13T21:37:...|   964|\n",
      "| 964|Hendrik Brummermann|118087|    0|They took it in d...|2012-04-28T06:17:...|   964|\n",
      "| 964|Hendrik Brummermann|638027|    0|I have the same i...|2015-08-03T13:26:...|   964|\n",
      "|1677|         eslambasha| 84949|    0|@fossfreedom i do...|2011-12-03T21:56:...|  1677|\n",
      "|1697|           Frxstrem| 16683|    0|@Marco, I know, I...|2010-12-08T22:36:...|  1697|\n",
      "|1697|           Frxstrem| 16784|    0|This seems to be ...|2010-12-09T19:05:...|  1697|\n",
      "|1697|           Frxstrem| 16886|    1|I only want to di...|2010-12-10T22:26:...|  1697|\n",
      "|1697|           Frxstrem| 16892|    1|This is not an ac...|2010-12-10T22:28:...|  1697|\n",
      "|1697|           Frxstrem| 16988|    0|Have you tried bu...|2010-12-11T19:22:...|  1697|\n",
      "|1697|           Frxstrem| 17471|    0|   @Stefano fixed it|2010-12-14T23:14:...|  1697|\n",
      "|1697|           Frxstrem| 17892|    0|My guess is that ...|2010-12-17T13:50:...|  1697|\n",
      "|1697|           Frxstrem| 18014|    0|-1 It's too uncle...|2010-12-18T17:53:...|  1697|\n",
      "|1697|           Frxstrem| 18273|    0|You did replace `...|2010-12-22T17:48:...|  1697|\n",
      "|1697|           Frxstrem| 67121|    0|Firstly, I have a...|2011-10-15T22:18:...|  1697|\n",
      "|1697|           Frxstrem|108944|    0|You should use `t...|2012-03-01T00:30:...|  1697|\n",
      "|1697|           Frxstrem|453415|    2|Daily builds can ...|2014-04-23T07:29:...|  1697|\n",
      "|1697|           Frxstrem|223442|    0|@user2662639 Simp...|2015-08-26T16:36:...|  1697|\n",
      "|1697|           Frxstrem|223442|    0|@user2662639 (I t...|2015-08-26T16:37:...|  1697|\n",
      "|1697|           Frxstrem| 17650|    2|@Fiksdal I don't ...|2016-03-25T12:21:...|  1697|\n",
      "|1697|           Frxstrem|899129|    0|@DavidFoerster Th...|2017-04-01T13:36:...|  1697|\n",
      "+----+-------------------+------+-----+--------------------+--------------------+------+\n",
      "only showing top 20 rows\n",
      "\n"
     ]
    }
   ],
   "source": [
    "comments_users_sql_df = spark.sql(\"SELECT * FROM users u JOIN comments c ON u.id = c.UserId\")\n",
    "comments_users_sql_df.show()"
   ]
  },
  {
   "cell_type": "code",
   "execution_count": null,
   "metadata": {},
   "outputs": [],
   "source": [
    "user_data = [\"id\",\"username\"]\n",
    "user_df = users_rdd.toDF(user_data)"
   ]
  },
  {
   "cell_type": "code",
   "execution_count": 119,
   "metadata": {},
   "outputs": [],
   "source": [
    "comments_users_sql_df.createOrReplaceTempView(\"comments_users\")"
   ]
  },
  {
   "cell_type": "code",
   "execution_count": null,
   "metadata": {},
   "outputs": [],
   "source": []
  },
  {
   "cell_type": "code",
   "execution_count": 121,
   "metadata": {},
   "outputs": [
    {
     "name": "stdout",
     "output_type": "stream",
     "text": [
      "root\n",
      " |-- id: long (nullable = true)\n",
      " |-- username: string (nullable = true)\n",
      "\n"
     ]
    }
   ],
   "source": [
    "user_df.printSchema()"
   ]
  },
  {
   "cell_type": "code",
   "execution_count": null,
   "metadata": {},
   "outputs": [],
   "source": []
  }
 ],
 "metadata": {
  "kernelspec": {
   "display_name": "PySpark",
   "language": "python",
   "name": "pyspark"
  },
  "language_info": {
   "codemirror_mode": {
    "name": "ipython",
    "version": 3
   },
   "file_extension": ".py",
   "mimetype": "text/x-python",
   "name": "python",
   "nbconvert_exporter": "python",
   "pygments_lexer": "ipython3",
   "version": "3.8.6"
  }
 },
 "nbformat": 4,
 "nbformat_minor": 4
}
